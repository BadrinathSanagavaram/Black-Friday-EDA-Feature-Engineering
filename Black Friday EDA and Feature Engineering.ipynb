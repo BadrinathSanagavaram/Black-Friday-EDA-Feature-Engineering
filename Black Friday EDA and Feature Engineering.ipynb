{
 "cells": [
  {
   "cell_type": "markdown",
   "id": "fc9d042f",
   "metadata": {},
   "source": [
    "# Black Friday EDA and Feature Engineering"
   ]
  },
  {
   "cell_type": "markdown",
   "id": "942b7e63",
   "metadata": {},
   "source": [
    "## Cleaning and preprocessing the Data for Data Modelling"
   ]
  },
  {
   "cell_type": "markdown",
   "id": "6c955bf8",
   "metadata": {},
   "source": [
    " # Problem statement:\n",
    "A retail company “ABC Private Limited” wants to understand the customer purchase behaviour (specifically, purchase amount) against various products of different categories. They have shared purchase summary of various customers for selected high volume products from last month. The data set also contains customer demographics (age, gender, marital status, city_type, stay_in_current_city), product details (product_id and product category) and Total purchase_amount from last month.\n",
    "\n",
    "Now, they want to build a model to predict the purchase amount of customer against various products which will help them to create personalized offer for customers against different products."
   ]
  },
  {
   "cell_type": "code",
   "execution_count": null,
   "id": "3b9788c5",
   "metadata": {},
   "outputs": [],
   "source": []
  }
 ],
 "metadata": {
  "kernelspec": {
   "display_name": "Python 3 (ipykernel)",
   "language": "python",
   "name": "python3"
  },
  "language_info": {
   "codemirror_mode": {
    "name": "ipython",
    "version": 3
   },
   "file_extension": ".py",
   "mimetype": "text/x-python",
   "name": "python",
   "nbconvert_exporter": "python",
   "pygments_lexer": "ipython3",
   "version": "3.11.5"
  }
 },
 "nbformat": 4,
 "nbformat_minor": 5
}
